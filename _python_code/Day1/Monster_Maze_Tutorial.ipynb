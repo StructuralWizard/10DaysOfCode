{
 "cells": [
  {
   "cell_type": "markdown",
   "id": "75e340c4",
   "metadata": {},
   "source": [
    "# 🧟‍♂️ Monster Maze Python Tutorial\n",
    "Welcome to the Monster Maze! In this tutorial, you’ll build a fun text-based game while learning core Python concepts."
   ]
  },
  {
   "cell_type": "code",
   "execution_count": null,
   "id": "a90a9c09",
   "metadata": {},
   "outputs": [],
   "source": [
    "\n",
    "import random\n",
    "\n",
    "# Constants\n",
    "ROOMS = [\"Hall\", \"Kitchen\", \"Dining Room\", \"Library\", \"Garden\"]\n",
    "ITEMS = [\"sword\", \"shield\", \"potion\"]\n",
    "MONSTERS = [\"goblin\", \"zombie\", \"troll\"]\n"
   ]
  },
  {
   "cell_type": "code",
   "execution_count": null,
   "id": "06cb7692",
   "metadata": {},
   "outputs": [],
   "source": [
    "\n",
    "# Player dictionary\n",
    "player = {\n",
    "    \"name\": \"Hero\",\n",
    "    \"health\": 100,\n",
    "    \"inventory\": []\n",
    "}\n",
    "\n",
    "# Functions\n",
    "def describe_room(room):\n",
    "    print(f\"You are in the {room}.\")\n",
    "    if random.random() < 0.3:\n",
    "        item = random.choice(ITEMS)\n",
    "        print(f\"You found a {item}!\")\n",
    "        player[\"inventory\"].append(item)\n",
    "    if random.random() < 0.3:\n",
    "        monster = random.choice(MONSTERS)\n",
    "        print(f\"A {monster} appears!\")\n",
    "        fight(monster)\n",
    "\n",
    "def fight(monster):\n",
    "    if \"sword\" in player[\"inventory\"]:\n",
    "        print(f\"You defeated the {monster} with your sword!\")\n",
    "    else:\n",
    "        print(f\"The {monster} attacked you! You lose 20 health.\")\n",
    "        player[\"health\"] -= 20\n"
   ]
  },
  {
   "cell_type": "code",
   "execution_count": null,
   "id": "c4647a04",
   "metadata": {},
   "outputs": [],
   "source": [
    "\n",
    "# Game loop\n",
    "def play_game():\n",
    "    print(\"Welcome to the Monster Maze!\")\n",
    "    print(\"Find the exit without losing all your health.\")\n",
    "\n",
    "    visited = []\n",
    "    while player[\"health\"] > 0:\n",
    "        room = random.choice(ROOMS)\n",
    "        if room not in visited:\n",
    "            visited.append(room)\n",
    "        describe_room(room)\n",
    "        print(f\"Health: {player['health']}, Inventory: {player['inventory']}\")\n",
    "        if input(\"Continue? (y/n) \") != \"y\":\n",
    "            break\n",
    "\n",
    "    if player[\"health\"] <= 0:\n",
    "        print(\"You have been defeated in the maze.\")\n",
    "    else:\n",
    "        print(\"You escaped the Monster Maze!\")\n",
    "\n",
    "play_game()\n"
   ]
  },
  {
   "cell_type": "markdown",
   "id": "9d03cbce",
   "metadata": {},
   "source": [
    "\n",
    "## 📝 Reflection\n",
    "\n",
    "- What happens when you find an item?\n",
    "- How is randomness used in the game?\n",
    "- Try changing the monsters, items, or rooms. What happens?\n"
   ]
  }
 ],
 "metadata": {},
 "nbformat": 4,
 "nbformat_minor": 5
}
